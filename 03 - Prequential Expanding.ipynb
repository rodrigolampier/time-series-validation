{
 "cells": [
  {
   "cell_type": "markdown",
   "metadata": {},
   "source": [
    "# 03 - Prequential Expanding"
   ]
  },
  {
   "cell_type": "markdown",
   "metadata": {},
   "source": [
    "Quebra o conjunto original em folders. Na primeira tentativa, pega o primeiro bloco para treino e o segundo bloco para teste. Na segunda tentativa, pega o primeiro e o segundo bloco para treino e o terceiro bloco para teste e assim vai fazendo para as demais tentativas, até chegar no último bloco. Os dados de treino vão sempre expandindo."
   ]
  },
  {
   "cell_type": "code",
   "execution_count": 1,
   "metadata": {},
   "outputs": [],
   "source": [
    "import pandas as pd\n",
    "import numpy as np\n",
    "from lightgbm import LGBMRegressor"
   ]
  },
  {
   "cell_type": "code",
   "execution_count": 2,
   "metadata": {},
   "outputs": [],
   "source": [
    "data = pd.read_csv('data-processed/train.csv')"
   ]
  },
  {
   "cell_type": "markdown",
   "metadata": {},
   "source": [
    "## Prequential Expanding"
   ]
  },
  {
   "cell_type": "code",
   "execution_count": 3,
   "metadata": {},
   "outputs": [
    {
     "data": {
      "text/plain": [
       "0     24515\n",
       "1     34600\n",
       "2     37444\n",
       "3     41101\n",
       "4     43439\n",
       "5     48186\n",
       "6     46831\n",
       "7     40403\n",
       "8     43971\n",
       "9     45609\n",
       "10    46107\n",
       "11    49602\n",
       "Name: block, dtype: int64"
      ]
     },
     "execution_count": 3,
     "metadata": {},
     "output_type": "execute_result"
    }
   ],
   "source": [
    "data['block'] = np.trunc(data['era']*.1).astype(int)\n",
    "data.loc[data['block'] == 12, 'block'] = 11\n",
    "\n",
    "data['block'].value_counts().sort_index()"
   ]
  },
  {
   "cell_type": "code",
   "execution_count": 4,
   "metadata": {},
   "outputs": [
    {
     "name": "stdout",
     "output_type": "stream",
     "text": [
      "Train blocks 0-0 - Validation Block 1\n",
      "Correlation 0.03492548009783929\n",
      "\n",
      "Train blocks 0-1 - Validation Block 2\n",
      "Correlation 0.050899663651192195\n",
      "\n",
      "Train blocks 0-2 - Validation Block 3\n",
      "Correlation 0.055482929228326164\n",
      "\n",
      "Train blocks 0-3 - Validation Block 4\n",
      "Correlation 0.04808939370995281\n",
      "\n",
      "Train blocks 0-4 - Validation Block 5\n",
      "Correlation 0.02929588848371697\n",
      "\n",
      "Train blocks 0-5 - Validation Block 6\n",
      "Correlation 0.02933274216060179\n",
      "\n",
      "Train blocks 0-6 - Validation Block 7\n",
      "Correlation 0.04980009798824874\n",
      "\n",
      "Train blocks 0-7 - Validation Block 8\n",
      "Correlation 0.036794885860251224\n",
      "\n",
      "Train blocks 0-8 - Validation Block 9\n",
      "Correlation 0.06196275563173071\n",
      "\n",
      "Train blocks 0-9 - Validation Block 10\n",
      "Correlation 0.041960375767892584\n",
      "\n",
      "Train blocks 0-10 - Validation Block 11\n",
      "Correlation 0.03723415166242421\n",
      "\n"
     ]
    }
   ],
   "source": [
    "results_val = []\n",
    "\n",
    "for block in range(1,12):\n",
    "    print(\"Train blocks 0-{} - Validation Block {}\".format(block - 1, block))\n",
    "    \n",
    "    train = data[data['block'] < block]\n",
    "    val = data[data['block'] == block]\n",
    "    \n",
    "    X_train = train.filter(regex=r'feature')\n",
    "    X_val = val.filter(regex=r'feature')\n",
    "\n",
    "    y_train = train['target']\n",
    "    y_val = val['target']\n",
    "     \n",
    "    mdl = LGBMRegressor(max_depth=5, num_leaves=2**5, learning_rate=0.01, n_estimators=2000, colsample_bytree=0.1, random_state=0)\n",
    "    mdl.fit(X_train, y_train)\n",
    "    \n",
    "    predictions = pd.Series(mdl.predict(X_val))\n",
    "    ranked_predictions = predictions.rank(pct=True, method=\"first\")\n",
    "    correlation = np.corrcoef(y_val, ranked_predictions)[0, 1]\n",
    "    #print(correlation)\n",
    "    \n",
    "    results_val.append(correlation)\n",
    "    print(\"Correlation {}\".format(correlation))\n",
    "    print()"
   ]
  },
  {
   "cell_type": "code",
   "execution_count": 5,
   "metadata": {},
   "outputs": [
    {
     "data": {
      "text/plain": [
       "0.041960375767892584"
      ]
     },
     "execution_count": 5,
     "metadata": {},
     "output_type": "execute_result"
    }
   ],
   "source": [
    "np.median(results_val)"
   ]
  },
  {
   "cell_type": "code",
   "execution_count": 6,
   "metadata": {},
   "outputs": [
    {
     "data": {
      "text/plain": [
       "0.02929588848371697"
      ]
     },
     "execution_count": 6,
     "metadata": {},
     "output_type": "execute_result"
    }
   ],
   "source": [
    "np.min(results_val)"
   ]
  },
  {
   "cell_type": "code",
   "execution_count": 7,
   "metadata": {},
   "outputs": [
    {
     "data": {
      "text/plain": [
       "0.06196275563173071"
      ]
     },
     "execution_count": 7,
     "metadata": {},
     "output_type": "execute_result"
    }
   ],
   "source": [
    "np.max(results_val)"
   ]
  },
  {
   "cell_type": "code",
   "execution_count": 8,
   "metadata": {},
   "outputs": [
    {
     "data": {
      "text/plain": [
       "0.043252578567470605"
      ]
     },
     "execution_count": 8,
     "metadata": {},
     "output_type": "execute_result"
    }
   ],
   "source": [
    "np.mean(results_val)"
   ]
  },
  {
   "cell_type": "code",
   "execution_count": 9,
   "metadata": {},
   "outputs": [
    {
     "data": {
      "text/plain": [
       "11"
      ]
     },
     "execution_count": 9,
     "metadata": {},
     "output_type": "execute_result"
    }
   ],
   "source": [
    "len(results_val)"
   ]
  },
  {
   "cell_type": "markdown",
   "metadata": {},
   "source": [
    "## Prequential Expanding With Gap"
   ]
  },
  {
   "cell_type": "markdown",
   "metadata": {},
   "source": [
    "Inserimos gaps entre os blocos de treino e validação. Isso é interessante quando não temos os dados imediatamente antes dos dados que precisamos prever."
   ]
  },
  {
   "cell_type": "code",
   "execution_count": 10,
   "metadata": {},
   "outputs": [
    {
     "name": "stdout",
     "output_type": "stream",
     "text": [
      "Train blocks 0-0 - Gap Block 1 - Validation Block 2\n",
      "Correlation 0.0468018477612904\n",
      "\n",
      "Train blocks 0-1 - Gap Block 2 - Validation Block 3\n",
      "Correlation 0.04479889032662142\n",
      "\n",
      "Train blocks 0-2 - Gap Block 3 - Validation Block 4\n",
      "Correlation 0.04308764828870972\n",
      "\n",
      "Train blocks 0-3 - Gap Block 4 - Validation Block 5\n",
      "Correlation 0.02576312120128353\n",
      "\n",
      "Train blocks 0-4 - Gap Block 5 - Validation Block 6\n",
      "Correlation 0.02090852253662712\n",
      "\n",
      "Train blocks 0-5 - Gap Block 6 - Validation Block 7\n",
      "Correlation 0.04964472276964134\n",
      "\n",
      "Train blocks 0-6 - Gap Block 7 - Validation Block 8\n",
      "Correlation 0.032339553609559715\n",
      "\n",
      "Train blocks 0-7 - Gap Block 8 - Validation Block 9\n",
      "Correlation 0.05902661603936733\n",
      "\n",
      "Train blocks 0-8 - Gap Block 9 - Validation Block 10\n",
      "Correlation 0.038391438450815364\n",
      "\n",
      "Train blocks 0-9 - Gap Block 10 - Validation Block 11\n",
      "Correlation 0.03633220010476147\n",
      "\n"
     ]
    }
   ],
   "source": [
    "results_val = []\n",
    "\n",
    "for block in range(2, 12):\n",
    "    print(\"Train blocks 0-{} - Gap Block {} - Validation Block {}\".format(block - 2, block - 1,  block))\n",
    "    \n",
    "    train = data[data['block'] < block-1]\n",
    "    val = data[data['block'] == block]\n",
    "    \n",
    "    X_train = train.filter(regex=r'feature')\n",
    "    X_val = val.filter(regex=r'feature')\n",
    "\n",
    "    y_train = train['target']\n",
    "    y_val = val['target']\n",
    "     \n",
    "    mdl = LGBMRegressor(max_depth=5, num_leaves=2**5, learning_rate=0.01, n_estimators=2000, colsample_bytree=0.1, random_state=0)\n",
    "    mdl.fit(X_train, y_train)\n",
    "    \n",
    "    predictions = pd.Series(mdl.predict(X_val))\n",
    "    ranked_predictions = predictions.rank(pct=True, method=\"first\")\n",
    "    correlation = np.corrcoef(y_val, ranked_predictions)[0, 1]\n",
    "    #print(correlation)\n",
    "    \n",
    "    results_val.append(correlation)\n",
    "    print(\"Correlation {}\".format(correlation))\n",
    "    print()"
   ]
  },
  {
   "cell_type": "code",
   "execution_count": 11,
   "metadata": {},
   "outputs": [
    {
     "data": {
      "text/plain": [
       "0.04073954336976254"
      ]
     },
     "execution_count": 11,
     "metadata": {},
     "output_type": "execute_result"
    }
   ],
   "source": [
    "np.median(results_val)"
   ]
  },
  {
   "cell_type": "code",
   "execution_count": 12,
   "metadata": {},
   "outputs": [
    {
     "data": {
      "text/plain": [
       "0.02090852253662712"
      ]
     },
     "execution_count": 12,
     "metadata": {},
     "output_type": "execute_result"
    }
   ],
   "source": [
    "np.min(results_val)"
   ]
  },
  {
   "cell_type": "code",
   "execution_count": 13,
   "metadata": {},
   "outputs": [
    {
     "data": {
      "text/plain": [
       "0.05902661603936733"
      ]
     },
     "execution_count": 13,
     "metadata": {},
     "output_type": "execute_result"
    }
   ],
   "source": [
    "np.max(results_val)"
   ]
  },
  {
   "cell_type": "code",
   "execution_count": 14,
   "metadata": {},
   "outputs": [
    {
     "data": {
      "text/plain": [
       "0.03970945610886774"
      ]
     },
     "execution_count": 14,
     "metadata": {},
     "output_type": "execute_result"
    }
   ],
   "source": [
    "np.mean(results_val)"
   ]
  },
  {
   "cell_type": "code",
   "execution_count": 15,
   "metadata": {},
   "outputs": [
    {
     "data": {
      "text/plain": [
       "10"
      ]
     },
     "execution_count": 15,
     "metadata": {},
     "output_type": "execute_result"
    }
   ],
   "source": [
    "len(results_val)"
   ]
  },
  {
   "cell_type": "markdown",
   "metadata": {},
   "source": [
    "# Fim"
   ]
  }
 ],
 "metadata": {
  "kernelspec": {
   "display_name": "Python 3",
   "language": "python",
   "name": "python3"
  },
  "language_info": {
   "codemirror_mode": {
    "name": "ipython",
    "version": 3
   },
   "file_extension": ".py",
   "mimetype": "text/x-python",
   "name": "python",
   "nbconvert_exporter": "python",
   "pygments_lexer": "ipython3",
   "version": "3.8.5"
  }
 },
 "nbformat": 4,
 "nbformat_minor": 4
}
