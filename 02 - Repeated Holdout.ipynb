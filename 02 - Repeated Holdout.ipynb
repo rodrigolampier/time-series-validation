{
 "cells": [
  {
   "cell_type": "markdown",
   "metadata": {},
   "source": [
    "## 02 - Repeated Holdout"
   ]
  },
  {
   "cell_type": "markdown",
   "metadata": {},
   "source": [
    "Consideramos a unidade de tempo (nesse caso eras) e não o número de linhas."
   ]
  },
  {
   "cell_type": "code",
   "execution_count": 1,
   "metadata": {},
   "outputs": [],
   "source": [
    "import pandas as pd\n",
    "import numpy as np\n",
    "from lightgbm import LGBMRegressor"
   ]
  },
  {
   "cell_type": "code",
   "execution_count": 2,
   "metadata": {},
   "outputs": [],
   "source": [
    "data = pd.read_csv('data-processed/train.csv')"
   ]
  },
  {
   "cell_type": "markdown",
   "metadata": {},
   "source": [
    "## Repeated Holdout 60/10"
   ]
  },
  {
   "cell_type": "markdown",
   "metadata": {},
   "source": [
    "60% dos dados são usadados para treino, esse caso de 1 a 72 (60% de 120 eras é 72 eras). E tiramos fora 10% do final (10% de 120 eras é 12).\n",
    "\n",
    "EScolhemos um ponto entre 72 e 108 e desse ponto para traz pegamos 60% das eras como treimo e 10% pra frente desse ponto como teste."
   ]
  },
  {
   "cell_type": "code",
   "execution_count": 3,
   "metadata": {},
   "outputs": [
    {
     "name": "stdout",
     "output_type": "stream",
     "text": [
      "Repetition 0 - Split point 72\n",
      "Correlation 0.047833804460405444\n",
      "\n",
      "Repetition 1 - Split point 84\n",
      "Correlation 0.04743417504869361\n",
      "\n",
      "Repetition 2 - Split point 87\n",
      "Correlation 0.052257727471143996\n",
      "\n",
      "Repetition 3 - Split point 96\n",
      "Correlation 0.037939659199590976\n",
      "\n",
      "Repetition 4 - Split point 77\n",
      "Correlation 0.030858306372656397\n",
      "\n",
      "Repetition 5 - Split point 107\n",
      "Correlation 0.04121782740138564\n",
      "\n",
      "Repetition 6 - Split point 82\n",
      "Correlation 0.0397508927101892\n",
      "\n",
      "Repetition 7 - Split point 76\n",
      "Correlation 0.03874572802761041\n",
      "\n",
      "Repetition 8 - Split point 75\n",
      "Correlation 0.03967148980901571\n",
      "\n",
      "Repetition 9 - Split point 100\n",
      "Correlation 0.03602350973304467\n",
      "\n",
      "Repetition 10 - Split point 81\n",
      "Correlation 0.04120797573238562\n",
      "\n",
      "Repetition 11 - Split point 97\n",
      "Correlation 0.04204479649283199\n",
      "\n",
      "Repetition 12 - Split point 83\n",
      "Correlation 0.0394582055737802\n",
      "\n",
      "Repetition 13 - Split point 90\n",
      "Correlation 0.051736449432678314\n",
      "\n",
      "Repetition 14 - Split point 96\n",
      "Correlation 0.037939659199590976\n",
      "\n",
      "Repetition 15 - Split point 80\n",
      "Correlation 0.03752595741824034\n",
      "\n",
      "Repetition 16 - Split point 77\n",
      "Correlation 0.030858306372656397\n",
      "\n",
      "Repetition 17 - Split point 87\n",
      "Correlation 0.052257727471143996\n",
      "\n",
      "Repetition 18 - Split point 91\n",
      "Correlation 0.051352852778248026\n",
      "\n",
      "Repetition 19 - Split point 101\n",
      "Correlation 0.038050066040496974\n",
      "\n"
     ]
    }
   ],
   "source": [
    "results_val = []\n",
    "\n",
    "for seed in range(20):\n",
    "\n",
    "    np.random.seed(seed)\n",
    "    split_point = np.random.randint(72, 108)\n",
    "    print(\"Repetition {} - Split point {}\".format(seed, split_point))\n",
    "    \n",
    "    train = data[(data['era'] > split_point - 72) & (data['era'] <= split_point)]\n",
    "    val = data[(data['era'] > split_point) & (data['era'] <= split_point+12)]\n",
    "\n",
    "    X_train = train.filter(regex=r'feature')\n",
    "    X_val = val.filter(regex=r'feature')\n",
    "\n",
    "    y_train = train['target']\n",
    "    y_val = val['target']\n",
    "     \n",
    "    mdl = LGBMRegressor(max_depth=5, num_leaves=2**5, learning_rate=0.01, n_estimators=2000, colsample_bytree=0.1, random_state=0)\n",
    "    mdl.fit(X_train, y_train)\n",
    "    \n",
    "    predictions = pd.Series(mdl.predict(X_val))\n",
    "    ranked_predictions = predictions.rank(pct=True, method=\"first\")\n",
    "    correlation = np.corrcoef(y_val, ranked_predictions)[0, 1]\n",
    "    #print(correlation)\n",
    "    \n",
    "    results_val.append(correlation)\n",
    "    print(\"Correlation {}\".format(correlation))\n",
    "    print()"
   ]
  },
  {
   "cell_type": "code",
   "execution_count": 4,
   "metadata": {},
   "outputs": [
    {
     "data": {
      "text/plain": [
       "0.03971119125960246"
      ]
     },
     "execution_count": 4,
     "metadata": {},
     "output_type": "execute_result"
    }
   ],
   "source": [
    "np.median(results_val)"
   ]
  },
  {
   "cell_type": "code",
   "execution_count": 5,
   "metadata": {},
   "outputs": [
    {
     "data": {
      "text/plain": [
       "0.030858306372656397"
      ]
     },
     "execution_count": 5,
     "metadata": {},
     "output_type": "execute_result"
    }
   ],
   "source": [
    "np.min(results_val)"
   ]
  },
  {
   "cell_type": "code",
   "execution_count": 6,
   "metadata": {},
   "outputs": [
    {
     "data": {
      "text/plain": [
       "0.052257727471143996"
      ]
     },
     "execution_count": 6,
     "metadata": {},
     "output_type": "execute_result"
    }
   ],
   "source": [
    "np.max(results_val)"
   ]
  },
  {
   "cell_type": "code",
   "execution_count": 7,
   "metadata": {},
   "outputs": [
    {
     "data": {
      "text/plain": [
       "0.041708255837289446"
      ]
     },
     "execution_count": 7,
     "metadata": {},
     "output_type": "execute_result"
    }
   ],
   "source": [
    "np.mean(results_val)"
   ]
  },
  {
   "cell_type": "code",
   "execution_count": 8,
   "metadata": {},
   "outputs": [
    {
     "data": {
      "text/plain": [
       "20"
      ]
     },
     "execution_count": 8,
     "metadata": {},
     "output_type": "execute_result"
    }
   ],
   "source": [
    "len(results_val)"
   ]
  },
  {
   "cell_type": "markdown",
   "metadata": {},
   "source": [
    "# Fim"
   ]
  }
 ],
 "metadata": {
  "kernelspec": {
   "display_name": "Python 3",
   "language": "python",
   "name": "python3"
  },
  "language_info": {
   "codemirror_mode": {
    "name": "ipython",
    "version": 3
   },
   "file_extension": ".py",
   "mimetype": "text/x-python",
   "name": "python",
   "nbconvert_exporter": "python",
   "pygments_lexer": "ipython3",
   "version": "3.8.5"
  }
 },
 "nbformat": 4,
 "nbformat_minor": 4
}
