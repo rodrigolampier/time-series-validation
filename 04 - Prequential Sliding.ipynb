{
 "cells": [
  {
   "cell_type": "markdown",
   "metadata": {},
   "source": [
    "# 04 - Prequential Sliding"
   ]
  },
  {
   "cell_type": "markdown",
   "metadata": {},
   "source": [
    "É semelhante ao Prequential Expanding, mas aqui não se junta os blocos anteriores para treino. Ou seja, na primeira tenttiva usamos o bloco 1 como treino e o 2 como teste. Na segunda tentativa usamos o bloco 2 como treino e o bloco 3 como teste e por ai vai."
   ]
  },
  {
   "cell_type": "code",
   "execution_count": 1,
   "metadata": {},
   "outputs": [],
   "source": [
    "import pandas as pd\n",
    "import numpy as np\n",
    "from lightgbm import LGBMRegressor"
   ]
  },
  {
   "cell_type": "code",
   "execution_count": 2,
   "metadata": {},
   "outputs": [],
   "source": [
    "data = pd.read_csv('data-processed/train.csv')"
   ]
  },
  {
   "cell_type": "markdown",
   "metadata": {},
   "source": [
    "# Prequential Sliding"
   ]
  },
  {
   "cell_type": "code",
   "execution_count": 3,
   "metadata": {},
   "outputs": [],
   "source": [
    "data['block'] = np.trunc(data['era']*.1).astype(int)\n",
    "data.loc[data['block'] == 12, 'block'] = 11"
   ]
  },
  {
   "cell_type": "code",
   "execution_count": 4,
   "metadata": {},
   "outputs": [
    {
     "data": {
      "text/plain": [
       "0     24515\n",
       "1     34600\n",
       "2     37444\n",
       "3     41101\n",
       "4     43439\n",
       "5     48186\n",
       "6     46831\n",
       "7     40403\n",
       "8     43971\n",
       "9     45609\n",
       "10    46107\n",
       "11    49602\n",
       "Name: block, dtype: int64"
      ]
     },
     "execution_count": 4,
     "metadata": {},
     "output_type": "execute_result"
    }
   ],
   "source": [
    "data['block'].value_counts().sort_index()"
   ]
  },
  {
   "cell_type": "code",
   "execution_count": 5,
   "metadata": {},
   "outputs": [
    {
     "name": "stdout",
     "output_type": "stream",
     "text": [
      "Train block 0 - Validation Block 1\n",
      "Correlation 0.03492548009783929\n",
      "\n",
      "Train block 1 - Validation Block 2\n",
      "Correlation 0.03553221654871381\n",
      "\n",
      "Train block 2 - Validation Block 3\n",
      "Correlation 0.04296995726018694\n",
      "\n",
      "Train block 3 - Validation Block 4\n",
      "Correlation 0.037621678419400575\n",
      "\n",
      "Train block 4 - Validation Block 5\n",
      "Correlation 0.018147158854925346\n",
      "\n",
      "Train block 5 - Validation Block 6\n",
      "Correlation 0.02192667450273779\n",
      "\n",
      "Train block 6 - Validation Block 7\n",
      "Correlation 0.024864635081096105\n",
      "\n",
      "Train block 7 - Validation Block 8\n",
      "Correlation 0.03004370841022358\n",
      "\n",
      "Train block 8 - Validation Block 9\n",
      "Correlation 0.03598199586372601\n",
      "\n",
      "Train block 9 - Validation Block 10\n",
      "Correlation 0.025698432695055572\n",
      "\n",
      "Train block 10 - Validation Block 11\n",
      "Correlation 0.03020776368773019\n",
      "\n"
     ]
    }
   ],
   "source": [
    "results_val = []\n",
    "\n",
    "for block in range(1,12):\n",
    "    print(\"Train block {} - Validation Block {}\".format(block - 1, block))\n",
    "    \n",
    "    train = data[data['block'] == block-1]\n",
    "    val = data[data['block'] == block]\n",
    "    \n",
    "    X_train = train.filter(regex=r'feature')\n",
    "    X_val = val.filter(regex=r'feature')\n",
    "\n",
    "    y_train = train['target']\n",
    "    y_val = val['target']\n",
    "     \n",
    "    mdl = LGBMRegressor(max_depth=5, num_leaves=2**5, learning_rate=0.01, n_estimators=2000, colsample_bytree=0.1, random_state=0)\n",
    "    mdl.fit(X_train, y_train)\n",
    "    \n",
    "    predictions = pd.Series(mdl.predict(X_val))\n",
    "    ranked_predictions = predictions.rank(pct=True, method=\"first\")\n",
    "    correlation = np.corrcoef(y_val, ranked_predictions)[0, 1]\n",
    "    #print(correlation)\n",
    "    \n",
    "    results_val.append(correlation)\n",
    "    print(\"Correlation {}\".format(correlation))\n",
    "    print()"
   ]
  },
  {
   "cell_type": "code",
   "execution_count": 6,
   "metadata": {},
   "outputs": [
    {
     "data": {
      "text/plain": [
       "0.03020776368773019"
      ]
     },
     "execution_count": 6,
     "metadata": {},
     "output_type": "execute_result"
    }
   ],
   "source": [
    "np.median(results_val)"
   ]
  },
  {
   "cell_type": "code",
   "execution_count": 7,
   "metadata": {},
   "outputs": [
    {
     "data": {
      "text/plain": [
       "0.018147158854925346"
      ]
     },
     "execution_count": 7,
     "metadata": {},
     "output_type": "execute_result"
    }
   ],
   "source": [
    "np.min(results_val)"
   ]
  },
  {
   "cell_type": "code",
   "execution_count": 8,
   "metadata": {},
   "outputs": [
    {
     "data": {
      "text/plain": [
       "0.04296995726018694"
      ]
     },
     "execution_count": 8,
     "metadata": {},
     "output_type": "execute_result"
    }
   ],
   "source": [
    "np.max(results_val)"
   ]
  },
  {
   "cell_type": "code",
   "execution_count": 9,
   "metadata": {},
   "outputs": [
    {
     "data": {
      "text/plain": [
       "0.030719972856512293"
      ]
     },
     "execution_count": 9,
     "metadata": {},
     "output_type": "execute_result"
    }
   ],
   "source": [
    "np.mean(results_val)"
   ]
  },
  {
   "cell_type": "code",
   "execution_count": 10,
   "metadata": {},
   "outputs": [
    {
     "data": {
      "text/plain": [
       "11"
      ]
     },
     "execution_count": 10,
     "metadata": {},
     "output_type": "execute_result"
    }
   ],
   "source": [
    "len(results_val)"
   ]
  },
  {
   "cell_type": "markdown",
   "metadata": {},
   "source": [
    "## Prequential Sliding With Gap"
   ]
  },
  {
   "cell_type": "code",
   "execution_count": 11,
   "metadata": {},
   "outputs": [
    {
     "name": "stdout",
     "output_type": "stream",
     "text": [
      "Train block 0 - Gap Block 1 - Validation Block 2\n",
      "Correlation 0.0468018477612904\n",
      "\n",
      "Train block 1 - Gap Block 2 - Validation Block 3\n",
      "Correlation 0.03841817632654235\n",
      "\n",
      "Train block 2 - Gap Block 3 - Validation Block 4\n",
      "Correlation 0.034839140974773246\n",
      "\n",
      "Train block 3 - Gap Block 4 - Validation Block 5\n",
      "Correlation 0.014520762242386933\n",
      "\n",
      "Train block 4 - Gap Block 5 - Validation Block 6\n",
      "Correlation 0.0196579681438175\n",
      "\n",
      "Train block 5 - Gap Block 6 - Validation Block 7\n",
      "Correlation 0.004024340467224122\n",
      "\n",
      "Train block 6 - Gap Block 7 - Validation Block 8\n",
      "Correlation 0.007632211342157569\n",
      "\n",
      "Train block 7 - Gap Block 8 - Validation Block 9\n",
      "Correlation 0.0340842833635809\n",
      "\n",
      "Train block 8 - Gap Block 9 - Validation Block 10\n",
      "Correlation 0.01843576000136357\n",
      "\n",
      "Train block 9 - Gap Block 10 - Validation Block 11\n",
      "Correlation 0.02454795689731109\n",
      "\n"
     ]
    }
   ],
   "source": [
    "results_val = []\n",
    "\n",
    "for block in range(2,12):\n",
    "    print(\"Train block {} - Gap Block {} - Validation Block {}\".format(block - 2, block - 1,  block))\n",
    "\n",
    "    train = data[data['block'] == block-2]\n",
    "    val = data[data['block'] == block]\n",
    "    \n",
    "    X_train = train.filter(regex=r'feature')\n",
    "    X_val = val.filter(regex=r'feature')\n",
    "\n",
    "    y_train = train['target']\n",
    "    y_val = val['target']\n",
    "     \n",
    "    mdl = LGBMRegressor(max_depth=5, num_leaves=2**5, learning_rate=0.01, n_estimators=2000, colsample_bytree=0.1, random_state=0)\n",
    "    mdl.fit(X_train, y_train)\n",
    "    \n",
    "    predictions = pd.Series(mdl.predict(X_val))\n",
    "    ranked_predictions = predictions.rank(pct=True, method=\"first\")\n",
    "    correlation = np.corrcoef(y_val, ranked_predictions)[0, 1]\n",
    "    #print(correlation)\n",
    "    \n",
    "    results_val.append(correlation)\n",
    "    print(\"Correlation {}\".format(correlation))\n",
    "    print()"
   ]
  },
  {
   "cell_type": "code",
   "execution_count": 12,
   "metadata": {},
   "outputs": [
    {
     "data": {
      "text/plain": [
       "0.022102962520564297"
      ]
     },
     "execution_count": 12,
     "metadata": {},
     "output_type": "execute_result"
    }
   ],
   "source": [
    "np.median(results_val)"
   ]
  },
  {
   "cell_type": "code",
   "execution_count": 13,
   "metadata": {},
   "outputs": [
    {
     "data": {
      "text/plain": [
       "0.004024340467224122"
      ]
     },
     "execution_count": 13,
     "metadata": {},
     "output_type": "execute_result"
    }
   ],
   "source": [
    "np.min(results_val)"
   ]
  },
  {
   "cell_type": "code",
   "execution_count": 14,
   "metadata": {},
   "outputs": [
    {
     "data": {
      "text/plain": [
       "0.0468018477612904"
      ]
     },
     "execution_count": 14,
     "metadata": {},
     "output_type": "execute_result"
    }
   ],
   "source": [
    "np.max(results_val)"
   ]
  },
  {
   "cell_type": "code",
   "execution_count": 15,
   "metadata": {},
   "outputs": [
    {
     "data": {
      "text/plain": [
       "0.02429624475204477"
      ]
     },
     "execution_count": 15,
     "metadata": {},
     "output_type": "execute_result"
    }
   ],
   "source": [
    "np.mean(results_val)"
   ]
  },
  {
   "cell_type": "code",
   "execution_count": 16,
   "metadata": {},
   "outputs": [
    {
     "data": {
      "text/plain": [
       "10"
      ]
     },
     "execution_count": 16,
     "metadata": {},
     "output_type": "execute_result"
    }
   ],
   "source": [
    "len(results_val)"
   ]
  },
  {
   "cell_type": "markdown",
   "metadata": {},
   "source": [
    "# Fim"
   ]
  }
 ],
 "metadata": {
  "kernelspec": {
   "display_name": "Python 3",
   "language": "python",
   "name": "python3"
  },
  "language_info": {
   "codemirror_mode": {
    "name": "ipython",
    "version": 3
   },
   "file_extension": ".py",
   "mimetype": "text/x-python",
   "name": "python",
   "nbconvert_exporter": "python",
   "pygments_lexer": "ipython3",
   "version": "3.8.5"
  }
 },
 "nbformat": 4,
 "nbformat_minor": 4
}
