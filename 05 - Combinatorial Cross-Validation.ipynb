{
 "cells": [
  {
   "cell_type": "markdown",
   "metadata": {},
   "source": [
    "# 05 - Combinatorial Cross-Validation"
   ]
  },
  {
   "cell_type": "code",
   "execution_count": null,
   "metadata": {},
   "outputs": [],
   "source": [
    "import pandas as pd\n",
    "import numpy as np\n",
    "from lightgbm import LGBMRegressor"
   ]
  },
  {
   "cell_type": "code",
   "execution_count": null,
   "metadata": {},
   "outputs": [],
   "source": [
    "data = pd.read_csv('data-processed/train.csv')"
   ]
  },
  {
   "cell_type": "markdown",
   "metadata": {},
   "source": [
    "## Block CV (1-block)"
   ]
  },
  {
   "cell_type": "markdown",
   "metadata": {},
   "source": [
    "É muito simmilar a validação cruzada que já conhecemos. Por exemplo, separados os dados em 10 folders (atentar de manter as linhas de uma era no mesmo bloco), de 1 a 10. Treinamos nos blocos 2 a 10 e validamos no bloco 1. Depois treinamos com os blocos 1 e 3 a 10, ai validamos com o bloco 2. E por ai vai.\n",
    "\n",
    "Se notou, estamos usando dado do futuro para treinar o modelo e dados do passado para validar..."
   ]
  },
  {
   "cell_type": "code",
   "execution_count": null,
   "metadata": {},
   "outputs": [],
   "source": [
    "data['block'] = np.trunc(data['era']*.1).astype(int)\n",
    "data.loc[data['block'] == 12, 'block'] = 11\n",
    "\n",
    "data['block'].value_counts().sort_index()"
   ]
  },
  {
   "cell_type": "code",
   "execution_count": null,
   "metadata": {},
   "outputs": [],
   "source": [
    "results_val = []\n",
    "\n",
    "for block in range(12):\n",
    "    print(\"Validation Block {}\".format(block))\n",
    "    \n",
    "    train = data[data['block'] != block]\n",
    "    val = data[data['block'] == block]\n",
    "    \n",
    "    X_train = train.filter(regex=r'feature')\n",
    "    X_val = val.filter(regex=r'feature')\n",
    "\n",
    "    y_train = train['target']\n",
    "    y_val = val['target']\n",
    "     \n",
    "    mdl = LGBMRegressor(max_depth=5, num_leaves=2**5, learning_rate=0.01, n_estimators=2000, colsample_bytree=0.1, random_state=0)\n",
    "    mdl.fit(X_train, y_train)\n",
    "    \n",
    "    predictions = pd.Series(mdl.predict(X_val))\n",
    "    ranked_predictions = predictions.rank(pct=True, method=\"first\")\n",
    "    correlation = np.corrcoef(y_val, ranked_predictions)[0, 1]\n",
    "    #print(correlation)\n",
    "    \n",
    "    results_val.append(correlation)\n",
    "    print(\"Correlation {}\".format(correlation))\n",
    "    print()"
   ]
  },
  {
   "cell_type": "code",
   "execution_count": null,
   "metadata": {},
   "outputs": [],
   "source": [
    "np.median(results_val)"
   ]
  },
  {
   "cell_type": "code",
   "execution_count": null,
   "metadata": {},
   "outputs": [],
   "source": [
    "np.min(results_val)"
   ]
  },
  {
   "cell_type": "code",
   "execution_count": null,
   "metadata": {},
   "outputs": [],
   "source": [
    "np.max(results_val)"
   ]
  },
  {
   "cell_type": "code",
   "execution_count": null,
   "metadata": {},
   "outputs": [],
   "source": [
    "np.mean(results_val)"
   ]
  },
  {
   "cell_type": "code",
   "execution_count": null,
   "metadata": {},
   "outputs": [],
   "source": [
    "len(results_val)"
   ]
  },
  {
   "cell_type": "markdown",
   "metadata": {},
   "source": [
    "# HV-Block CV (1-block)"
   ]
  },
  {
   "cell_type": "markdown",
   "metadata": {},
   "source": [
    "O racional é o mesmo aqui. A diferença é que não pegamos o bloco antes e o bloco depois do bloco de validação. Assim criamos um gap entre os dados de treino (demais blocos) e o bloco de validação."
   ]
  },
  {
   "cell_type": "code",
   "execution_count": null,
   "metadata": {},
   "outputs": [],
   "source": [
    "results_val = []\n",
    "\n",
    "for block in range(2,12):\n",
    "    print(\"Train block {} - Gap Block {} - Validation Block {}\".format(block - 2, block - 1,  block))\n",
    "\n",
    "    if block == 0:\n",
    "        train = data[data['block'] > block+1]\n",
    "    elif block == 11:\n",
    "        train = data[data['block'] < block-1]\n",
    "    else:\n",
    "        train = data[(data['block'] != block-1) & (data['block'] != block) & (data['block'] != block+1)]\n",
    "    \n",
    "    val = data[data['block'] == block]\n",
    "    \n",
    "    X_train = train.filter(regex=r'feature')\n",
    "    X_val = val.filter(regex=r'feature')\n",
    "\n",
    "    y_train = train['target']\n",
    "    y_val = val['target']\n",
    "\n",
    "    mdl = LGBMRegressor(max_depth=5, num_leaves=2**5, learning_rate=0.01, n_estimators=2000, colsample_bytree=0.1, random_state=0)\n",
    "    mdl.fit(X_train, y_train)\n",
    "    \n",
    "    predictions = pd.Series(mdl.predict(X_val))\n",
    "    ranked_predictions = predictions.rank(pct=True, method=\"first\")\n",
    "    correlation = np.corrcoef(y_val, ranked_predictions)[0, 1]\n",
    "    #print(correlation)\n",
    "    \n",
    "    results_val.append(correlation)\n",
    "    print(\"Correlation {}\".format(correlation))\n",
    "    print()"
   ]
  },
  {
   "cell_type": "code",
   "execution_count": null,
   "metadata": {},
   "outputs": [],
   "source": [
    "np.median(results_val)"
   ]
  },
  {
   "cell_type": "code",
   "execution_count": null,
   "metadata": {},
   "outputs": [],
   "source": [
    "np.min(results_val)"
   ]
  },
  {
   "cell_type": "code",
   "execution_count": null,
   "metadata": {},
   "outputs": [],
   "source": [
    "np.max(results_val)"
   ]
  },
  {
   "cell_type": "code",
   "execution_count": null,
   "metadata": {},
   "outputs": [],
   "source": [
    "np.mean(results_val)"
   ]
  },
  {
   "cell_type": "code",
   "execution_count": null,
   "metadata": {},
   "outputs": [],
   "source": [
    "len(results_val)"
   ]
  },
  {
   "cell_type": "markdown",
   "metadata": {},
   "source": [
    "## Combinatorial Purged (Gap) (Block)-CV"
   ]
  },
  {
   "cell_type": "markdown",
   "metadata": {},
   "source": [
    "Gera todas as combicações possíveis entre blocos e não pega as combinações em que os blocos estão lado a lado (são vizinhos)."
   ]
  },
  {
   "cell_type": "code",
   "execution_count": null,
   "metadata": {},
   "outputs": [],
   "source": [
    "from itertools import permutations\n",
    "\n",
    "block_combos = list(permutations(range(12), 2)) # pode ser mais que 2\n",
    "\n",
    "total_purged_pairs = sum([1 for train_block, val_block in block_combos if abs(train_block - val_block) != 1])\n",
    "print(\"Total de pares com gap {}\".format(total_purged_pairs))\n",
    "\n",
    "results_val = []\n",
    "for train_block, val_block in block_combos:\n",
    "    if abs(train_block - val_block) == 1:\n",
    "        continue\n",
    "        \n",
    "    print(\"Train block {} - Validation Block {}\".format(train_block, val_block))\n",
    "\n",
    "    train = data[data['block'] == train_block]\n",
    "    val = data[data['block'] == val_block]\n",
    "    \n",
    "    X_train = train.filter(regex=r'feature')\n",
    "    X_val = val.filter(regex=r'feature')\n",
    "\n",
    "    y_train = train['target']\n",
    "    y_val = val['target']\n",
    "     \n",
    "    mdl = LGBMRegressor(max_depth=5, num_leaves=2**5, learning_rate=0.01, n_estimators=2000, colsample_bytree=0.1, random_state=0)\n",
    "    mdl.fit(X_train, y_train)\n",
    "    \n",
    "    predictions = pd.Series(mdl.predict(X_val))\n",
    "    ranked_predictions = predictions.rank(pct=True, method=\"first\")\n",
    "    correlation = np.corrcoef(y_val, ranked_predictions)[0, 1]\n",
    "    #print(correlation)\n",
    "    \n",
    "    results_val.append(correlation)\n",
    "    print(\"Correlation {}\".format(correlation))\n",
    "    print()"
   ]
  },
  {
   "cell_type": "code",
   "execution_count": null,
   "metadata": {},
   "outputs": [],
   "source": [
    "np.median(results_val)"
   ]
  },
  {
   "cell_type": "code",
   "execution_count": null,
   "metadata": {},
   "outputs": [],
   "source": [
    "np.min(results_val)"
   ]
  },
  {
   "cell_type": "code",
   "execution_count": null,
   "metadata": {},
   "outputs": [],
   "source": [
    "np.max(results_val)"
   ]
  },
  {
   "cell_type": "code",
   "execution_count": null,
   "metadata": {},
   "outputs": [],
   "source": [
    "np.mean(results_val)"
   ]
  },
  {
   "cell_type": "code",
   "execution_count": null,
   "metadata": {},
   "outputs": [],
   "source": [
    "len(results_val)"
   ]
  },
  {
   "cell_type": "markdown",
   "metadata": {},
   "source": [
    "# Fim"
   ]
  }
 ],
 "metadata": {
  "kernelspec": {
   "display_name": "Python 3",
   "language": "python",
   "name": "python3"
  },
  "language_info": {
   "codemirror_mode": {
    "name": "ipython",
    "version": 3
   },
   "file_extension": ".py",
   "mimetype": "text/x-python",
   "name": "python",
   "nbconvert_exporter": "python",
   "pygments_lexer": "ipython3",
   "version": "3.8.5"
  }
 },
 "nbformat": 4,
 "nbformat_minor": 4
}
